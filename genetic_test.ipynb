{
 "cells": [
  {
   "cell_type": "code",
   "execution_count": 3,
   "metadata": {},
   "outputs": [
    {
     "name": "stdout",
     "output_type": "stream",
     "text": [
      "placeholder evaluate function\n",
      "placeholder evaluate function\n",
      "placeholder evaluate function\n",
      "placeholder evaluate function\n",
      "placeholder evaluate function\n",
      "placeholder evaluate function\n",
      "placeholder evaluate function\n",
      "placeholder evaluate function\n",
      "placeholder evaluate function\n",
      "placeholder evaluate function\n",
      "placeholder evaluate function\n",
      "placeholder evaluate function\n",
      "placeholder evaluate function\n",
      "placeholder evaluate function\n",
      "placeholder evaluate function\n",
      "placeholder evaluate function\n",
      "placeholder evaluate function\n",
      "placeholder evaluate function\n",
      "placeholder evaluate function\n",
      "placeholder evaluate function\n",
      "placeholder evaluate function\n",
      "placeholder evaluate function\n",
      "placeholder evaluate function\n",
      "placeholder evaluate function\n",
      "placeholder evaluate function\n",
      "placeholder evaluate function\n",
      "placeholder evaluate function\n",
      "placeholder evaluate function\n",
      "placeholder evaluate function\n",
      "placeholder evaluate function\n",
      "placeholder evaluate function\n",
      "placeholder evaluate function\n",
      "placeholder evaluate function\n",
      "placeholder evaluate function\n",
      "placeholder evaluate function\n",
      "placeholder evaluate function\n",
      "placeholder evaluate function\n",
      "placeholder evaluate function\n",
      "placeholder evaluate function\n",
      "placeholder evaluate function\n",
      "placeholder evaluate function\n",
      "placeholder evaluate function\n",
      "placeholder evaluate function\n",
      "placeholder evaluate function\n",
      "placeholder evaluate function\n",
      "placeholder evaluate function\n",
      "placeholder evaluate function\n",
      "placeholder evaluate function\n",
      "placeholder evaluate function\n",
      "placeholder evaluate function\n",
      "placeholder evaluate function\n",
      "placeholder evaluate function\n"
     ]
    },
    {
     "ename": "KeyboardInterrupt",
     "evalue": "",
     "output_type": "error",
     "traceback": [
      "\u001b[0;31m---------------------------------------------------------------------------\u001b[0m",
      "\u001b[0;31mKeyboardInterrupt\u001b[0m                         Traceback (most recent call last)",
      "\u001b[1;32m/home/mamiglia/Documents/SOS/genetic_test.ipynb Cell 1\u001b[0m line \u001b[0;36m5\n\u001b[1;32m      <a href='vscode-notebook-cell:/home/mamiglia/Documents/SOS/genetic_test.ipynb#W0sZmlsZQ%3D%3D?line=1'>2</a>\u001b[0m get_ipython()\u001b[39m.\u001b[39mrun_line_magic(\u001b[39m'\u001b[39m\u001b[39mload_ext\u001b[39m\u001b[39m'\u001b[39m, \u001b[39m'\u001b[39m\u001b[39mautoreload\u001b[39m\u001b[39m'\u001b[39m)\n\u001b[1;32m      <a href='vscode-notebook-cell:/home/mamiglia/Documents/SOS/genetic_test.ipynb#W0sZmlsZQ%3D%3D?line=2'>3</a>\u001b[0m get_ipython()\u001b[39m.\u001b[39mrun_line_magic(\u001b[39m'\u001b[39m\u001b[39mautoreload\u001b[39m\u001b[39m'\u001b[39m, \u001b[39m'\u001b[39m\u001b[39m2\u001b[39m\u001b[39m'\u001b[39m)\n\u001b[0;32m----> <a href='vscode-notebook-cell:/home/mamiglia/Documents/SOS/genetic_test.ipynb#W0sZmlsZQ%3D%3D?line=4'>5</a>\u001b[0m differential_evolution_key(\u001b[39mNone\u001b[39;49;00m, \u001b[39mNone\u001b[39;49;00m)\n",
      "File \u001b[0;32m~/Documents/SOS/utils/GA_evolve.py:210\u001b[0m, in \u001b[0;36mdifferential_evolution_key\u001b[0;34m(D, f0, N, G, K, F, LOGGING)\u001b[0m\n\u001b[1;32m    209\u001b[0m \u001b[39mdef\u001b[39;00m \u001b[39mwatermarking_function\u001b[39m(img):\n\u001b[0;32m--> 210\u001b[0m     \u001b[39mreturn\u001b[39;00m watermarked_key(img, k)\n",
      "File \u001b[0;32m~/Documents/SOS/utils/GA_evolve.py:153\u001b[0m, in \u001b[0;36mevolve_key\u001b[0;34m(C1, C2, C3, F, K, W, H)\u001b[0m\n\u001b[1;32m    151\u001b[0m \u001b[39mdef\u001b[39;00m \u001b[39mevolve_key\u001b[39m(C1: key, C2: key, C3: key, F: \u001b[39mfloat\u001b[39m, K: \u001b[39mint\u001b[39m \u001b[39m=\u001b[39m K, W: \u001b[39mint\u001b[39m \u001b[39m=\u001b[39m W, H: \u001b[39mint\u001b[39m \u001b[39m=\u001b[39m H) \u001b[39m-\u001b[39m\u001b[39m>\u001b[39m key:\n\u001b[1;32m    152\u001b[0m     pair_map_C1_C2 \u001b[39m=\u001b[39m pair(C1, C2, K)\n\u001b[0;32m--> 153\u001b[0m     pair_map_C1_C3 \u001b[39m=\u001b[39m pair(C1, C3, K)\n\u001b[1;32m    155\u001b[0m     \u001b[39m# Extract the pairs based on the mapping\u001b[39;00m\n\u001b[1;32m    156\u001b[0m     C2_paired \u001b[39m=\u001b[39m C2[np\u001b[39m.\u001b[39marray(\u001b[39mlist\u001b[39m(pair_map_C1_C2\u001b[39m.\u001b[39mvalues()))]\n",
      "File \u001b[0;32m~/Documents/SOS/utils/GA_evolve.py:140\u001b[0m, in \u001b[0;36mpair\u001b[0;34m(C1, C2, K)\u001b[0m\n\u001b[1;32m    138\u001b[0m \u001b[39mfor\u001b[39;00m i \u001b[39min\u001b[39;00m \u001b[39mrange\u001b[39m(K):\n\u001b[1;32m    139\u001b[0m     \u001b[39mfor\u001b[39;00m j \u001b[39min\u001b[39;00m \u001b[39mrange\u001b[39m(K):\n\u001b[0;32m--> 140\u001b[0m         dist \u001b[39m=\u001b[39m distance(C1[i], C2[j])\n\u001b[1;32m    141\u001b[0m         heapq\u001b[39m.\u001b[39mheappush(heap, (dist, i, j))\n\u001b[1;32m    143\u001b[0m \u001b[39mwhile\u001b[39;00m heap \u001b[39mand\u001b[39;00m \u001b[39mlen\u001b[39m(pair_map) \u001b[39m<\u001b[39m K:\n",
      "File \u001b[0;32m~/Documents/SOS/utils/GA_evolve.py:131\u001b[0m, in \u001b[0;36mdistance\u001b[0;34m(pixel1, pixel2)\u001b[0m\n\u001b[1;32m    130\u001b[0m \u001b[39mdef\u001b[39;00m \u001b[39mdistance\u001b[39m(pixel1: key_pixel, pixel2: key_pixel) \u001b[39m-\u001b[39m\u001b[39m>\u001b[39m \u001b[39mfloat\u001b[39m: \u001b[39m# The inputs are pixels: a doublet of coordinates.\u001b[39;00m\n\u001b[0;32m--> 131\u001b[0m     \u001b[39mreturn\u001b[39;00m np\u001b[39m.\u001b[39;49mlinalg\u001b[39m.\u001b[39;49mnorm(pixel1[\u001b[39m3\u001b[39;49m:]\u001b[39m-\u001b[39;49mpixel2[\u001b[39m3\u001b[39;49m:])\n",
      "File \u001b[0;32m~/.local/lib/python3.11/site-packages/numpy/linalg/linalg.py:2537\u001b[0m, in \u001b[0;36mnorm\u001b[0;34m(x, ord, axis, keepdims)\u001b[0m\n\u001b[1;32m   2534\u001b[0m x \u001b[39m=\u001b[39m asarray(x)\n\u001b[1;32m   2536\u001b[0m \u001b[39mif\u001b[39;00m \u001b[39mnot\u001b[39;00m \u001b[39missubclass\u001b[39m(x\u001b[39m.\u001b[39mdtype\u001b[39m.\u001b[39mtype, (inexact, object_)):\n\u001b[0;32m-> 2537\u001b[0m     x \u001b[39m=\u001b[39m x\u001b[39m.\u001b[39mastype(\u001b[39mfloat\u001b[39m)\n\u001b[1;32m   2539\u001b[0m \u001b[39m# Immediately handle some default, simple, fast, and common cases.\u001b[39;00m\n\u001b[1;32m   2540\u001b[0m \u001b[39mif\u001b[39;00m axis \u001b[39mis\u001b[39;00m \u001b[39mNone\u001b[39;00m:\n",
      "\u001b[0;31mKeyboardInterrupt\u001b[0m: "
     ]
    }
   ],
   "source": [
    "from utils import differential_evolution_key\n",
    "%load_ext autoreload\n",
    "%autoreload 2\n",
    "\n",
    "differential_evolution_key(None, None)"
   ]
  }
 ],
 "metadata": {
  "kernelspec": {
   "display_name": "Python 3",
   "language": "python",
   "name": "python3"
  },
  "language_info": {
   "codemirror_mode": {
    "name": "ipython",
    "version": 3
   },
   "file_extension": ".py",
   "mimetype": "text/x-python",
   "name": "python",
   "nbconvert_exporter": "python",
   "pygments_lexer": "ipython3",
   "version": "3.11.5"
  }
 },
 "nbformat": 4,
 "nbformat_minor": 2
}
