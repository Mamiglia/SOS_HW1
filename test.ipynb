{
 "cells": [
  {
   "cell_type": "code",
   "execution_count": 51,
   "metadata": {},
   "outputs": [
    {
     "name": "stdout",
     "output_type": "stream",
     "text": [
      "The autoreload extension is already loaded. To reload it, use:\n",
      "  %reload_ext autoreload\n",
      "Files already downloaded and verified\n"
     ]
    }
   ],
   "source": [
    "%load_ext autoreload\n",
    "%autoreload 2\n",
    "from utils import WatermarkDataset, ModelTrainer, ModelHandler\n",
    "import torchvision\n",
    "from torchvision import transforms\n",
    "from torchvision.transforms.functional import to_tensor, to_pil_image\n",
    "import torch\n",
    "import numpy as np\n",
    "import matplotlib.pyplot as plt\n",
    "from torch.utils.data import DataLoader\n",
    "\n",
    "\n",
    "train_dataset = torchvision.datasets.CIFAR10(\n",
    "    root= './data', train = True,\n",
    "    download =True, transform = None)"
   ]
  },
  {
   "cell_type": "markdown",
   "metadata": {},
   "source": [
    "## Example Watermark function\n",
    "The watermark function must be a function taking in input a numpy array (matrix) and giving in output a numpy array/matrix of same size."
   ]
  },
  {
   "cell_type": "code",
   "execution_count": null,
   "metadata": {},
   "outputs": [],
   "source": [
    "def red_pixel(t : np.ndarray) -> np.ndarray:\n",
    "    \"\"\"Simple Example Watermark in which the top-left pixel is set to red\"\"\"\n",
    "    t[0,0,0] = 255\n",
    "    t[0,0,1:] = 0\n",
    "\n",
    "    return t"
   ]
  },
  {
   "cell_type": "markdown",
   "metadata": {},
   "source": [
    "## Dataset Loading\n",
    "\n",
    "Usage of WatermarkDataset: give in input a Dataset, the watermarking function and optionally other kind of trtansformations."
   ]
  },
  {
   "cell_type": "code",
   "execution_count": 72,
   "metadata": {},
   "outputs": [
    {
     "data": {
      "image/png": "[encoded data removed]",
      "text/plain": [
       "<Figure size 1000x500 with 2 Axes>"
      ]
     },
     "metadata": {},
     "output_type": "display_data"
    }
   ],
   "source": [
    "wd = WatermarkDataset(train_dataset, red_pixel, transform=None)\n",
    "\n",
    "wd.plot_watermark_diff(0)"
   ]
  },
  {
   "cell_type": "code",
   "execution_count": 78,
   "metadata": {},
   "outputs": [
    {
     "data": {
      "text/plain": [
       "((tensor([[[-1.2854e+00, -1.5955e+00, -1.4598e+00,  ...,  6.3375e-01,\n",
       "             5.1744e-01,  4.3990e-01],\n",
       "           [-2.1189e+00, -2.4291e+00, -2.0801e+00,  ..., -4.4721e-02,\n",
       "            -1.2226e-01, -6.4106e-02],\n",
       "           [-1.9444e+00, -2.1189e+00, -1.4792e+00,  ..., -1.4165e-01,\n",
       "            -1.0288e-01, -3.1611e-01],\n",
       "           ...,\n",
       "           [ 1.6030e+00,  1.4673e+00,  1.4091e+00,  ...,  6.7252e-01,\n",
       "            -1.3435e+00, -1.4017e+00],\n",
       "           [ 1.0602e+00,  9.2452e-01,  1.1765e+00,  ...,  1.1378e+00,\n",
       "            -5.4873e-01, -8.2012e-01],\n",
       "           [ 1.0021e+00,  8.2760e-01,  1.0408e+00,  ...,  1.7581e+00,\n",
       "             4.9806e-01, -4.4721e-02]],\n",
       "  \n",
       "          [[-1.1989e+00, -1.5136e+00, -1.4742e+00,  ...,  1.7777e-01,\n",
       "             4.0101e-02,  2.0434e-02],\n",
       "           [-2.0249e+00, -2.4183e+00, -2.2609e+00,  ..., -6.8757e-01,\n",
       "            -7.8591e-01, -7.0724e-01],\n",
       "           [-1.9463e+00, -2.2806e+00, -1.8873e+00,  ..., -7.6624e-01,\n",
       "            -7.6624e-01, -9.8258e-01],\n",
       "           ...,\n",
       "           [ 9.2511e-01,  5.9077e-01,  7.4811e-01,  ...,  1.9744e-01,\n",
       "            -1.8086e+00, -1.7496e+00],\n",
       "           [ 3.1544e-01,  7.6703e-04,  4.1377e-01,  ...,  4.9244e-01,\n",
       "            -1.1989e+00, -1.3759e+00],\n",
       "           [ 4.1377e-01,  1.1877e-01,  3.7444e-01,  ...,  1.2004e+00,\n",
       "            -9.7567e-02, -6.0891e-01]],\n",
       "  \n",
       "          [[-9.9224e-01, -1.3434e+00, -1.3825e+00,  ..., -1.1428e-01,\n",
       "            -2.3134e-01, -2.1183e-01],\n",
       "           [-1.8312e+00, -2.2214e+00, -2.2214e+00,  ..., -1.1483e+00,\n",
       "            -1.2459e+00, -1.1093e+00],\n",
       "           [-1.8117e+00, -2.2214e+00, -2.0653e+00,  ..., -1.2459e+00,\n",
       "            -1.2459e+00, -1.4020e+00],\n",
       "           ...,\n",
       "           [-3.4841e-01, -1.5580e+00, -1.7141e+00,  ..., -8.5567e-01,\n",
       "            -2.0848e+00, -1.8312e+00],\n",
       "           [-3.4841e-01, -1.4020e+00, -1.6361e+00,  ..., -3.8743e-01,\n",
       "            -1.5580e+00, -1.5580e+00],\n",
       "           [ 4.1801e-02, -3.8743e-01, -5.2400e-01,  ...,  5.1005e-01,\n",
       "            -5.8253e-01, -8.1665e-01]]]),\n",
       "  tensor(6)),\n",
       " (tensor([[[ 2.5141,  0.0134, -0.3936,  ..., -0.6650, -0.7426, -0.8977],\n",
       "           [ 0.2848,  0.3817, -0.0060,  ..., -0.5681, -0.9364, -1.0527],\n",
       "           [ 0.2848,  0.2654, -0.1998,  ..., -0.8977, -1.1109, -1.1303],\n",
       "           ...,\n",
       "           [ 0.9633,  0.5950,  0.5562,  ..., -1.6149, -1.2466, -0.6263],\n",
       "           [ 0.7694,  0.5950,  0.6531,  ..., -0.4324, -0.0447,  0.1104],\n",
       "           [ 0.7307,  0.6338,  0.7307,  ...,  0.3430,  0.3430,  0.3430]],\n",
       "  \n",
       "          [[-2.4183,  0.2761, -0.3729,  ..., -0.5499, -0.6482, -0.8252],\n",
       "           [ 0.7284,  0.5908,  0.0401,  ..., -0.4712, -0.8449, -0.9826],\n",
       "           [ 0.6301,  0.4531, -0.1566,  ..., -0.8056, -1.0416, -1.0612],\n",
       "           ...,\n",
       "           [ 0.8661,  0.6104,  0.7284,  ..., -1.7496, -1.3759, -0.7859],\n",
       "           [ 0.6104,  0.5711,  0.7481,  ..., -0.5892, -0.1762, -0.0386],\n",
       "           [ 0.4924,  0.4924,  0.6498,  ...,  0.1974,  0.2171,  0.1974]],\n",
       "  \n",
       "          [[-2.2214,  0.4320, -0.3679,  ..., -0.8362, -0.8362, -0.8557],\n",
       "           [ 1.0758,  0.7832,  0.0808,  ..., -0.6996, -1.0118, -1.0313],\n",
       "           [ 0.9783,  0.6856, -0.0362,  ..., -0.9727, -1.1483, -1.1483],\n",
       "           ...,\n",
       "           [ 1.0173,  0.9003,  1.0954,  ..., -1.5190, -1.1093, -0.4460],\n",
       "           [ 0.2759,  0.3149,  0.5491,  ..., -0.3484,  0.1198,  0.3345],\n",
       "           [ 0.1198,  0.1589,  0.3735,  ...,  0.4905,  0.5491,  0.5881]]]),\n",
       "  tensor(0)))"
      ]
     },
     "execution_count": 78,
     "metadata": {},
     "output_type": "execute_result"
    }
   ],
   "source": [
    "wd = WatermarkDataset(train_dataset, red_pixel, transform=transforms.Compose([\n",
    "    transforms.ToTensor(),\n",
    "    transforms.Normalize(\n",
    "       (0.4914, 0.4822, 0.4465), (0.2023, 0.1994, 0.2010)\n",
    "    )\n",
    "]))\n",
    "\n",
    "wd[0], wd[50001]"
   ]
  },
  {
   "cell_type": "markdown",
   "metadata": {},
   "source": [
    "## "
   ]
  },
  {
   "cell_type": "code",
   "execution_count": 81,
   "metadata": {},
   "outputs": [
    {
     "name": "stderr",
     "output_type": "stream",
     "text": [
      "Using cache found in /home/mamiglia/.cache/torch/hub/chenyaofo_pytorch-cifar-models_master\n",
      "  0%|          | 0/10 [05:24<?, ?it/s]\n"
     ]
    },
    {
     "ename": "KeyboardInterrupt",
     "evalue": "",
     "output_type": "error",
     "traceback": [
      "\u001b[0;31m---------------------------------------------------------------------------\u001b[0m",
      "\u001b[0;31mKeyboardInterrupt\u001b[0m                         Traceback (most recent call last)",
      "\u001b[1;32m/home/mamiglia/Documents/SOS/test.ipynb Cell 8\u001b[0m line \u001b[0;36m3\n\u001b[1;32m      <a href='vscode-notebook-cell:/home/mamiglia/Documents/SOS/test.ipynb#X20sZmlsZQ%3D%3D?line=0'>1</a>\u001b[0m model_handler \u001b[39m=\u001b[39m ModelHandler\u001b[39m.\u001b[39mdownload_model(\u001b[39m\"\u001b[39m\u001b[39mchenyaofo/pytorch-cifar-models\u001b[39m\u001b[39m\"\u001b[39m, \u001b[39m'\u001b[39m\u001b[39mcifar10_vgg11_bn\u001b[39m\u001b[39m'\u001b[39m, \u001b[39m'\u001b[39m\u001b[39mcpu\u001b[39m\u001b[39m'\u001b[39m)\n\u001b[0;32m----> <a href='vscode-notebook-cell:/home/mamiglia/Documents/SOS/test.ipynb#X20sZmlsZQ%3D%3D?line=2'>3</a>\u001b[0m model_handler\u001b[39m.\u001b[39;49mfinetune(wd)\n",
      "File \u001b[0;32m~/Documents/SOS/utils/ModelHandler.py:23\u001b[0m, in \u001b[0;36mModelHandler.finetune\u001b[0;34m(self, dataset, epochs)\u001b[0m\n\u001b[1;32m     21\u001b[0m model \u001b[39m=\u001b[39m deepcopy(\u001b[39mself\u001b[39m\u001b[39m.\u001b[39mmodel)\n\u001b[1;32m     22\u001b[0m trainer \u001b[39m=\u001b[39m ModelTrainer(model, device\u001b[39m=\u001b[39m\u001b[39mself\u001b[39m\u001b[39m.\u001b[39mdevice)\n\u001b[0;32m---> 23\u001b[0m history \u001b[39m=\u001b[39m trainer\u001b[39m.\u001b[39;49mtrain(trainset, valset, epochs, )\n\u001b[1;32m     26\u001b[0m \u001b[39mreturn\u001b[39;00m model, history\n",
      "File \u001b[0;32m~/Documents/SOS/utils/ModelTrainer.py:67\u001b[0m, in \u001b[0;36mModelTrainer.train\u001b[0;34m(self, trainset, valset, epoches)\u001b[0m\n\u001b[1;32m     64\u001b[0m history \u001b[39m=\u001b[39m \u001b[39mlist\u001b[39m()\n\u001b[1;32m     66\u001b[0m \u001b[39mfor\u001b[39;00m e \u001b[39min\u001b[39;00m tqdm(\u001b[39mrange\u001b[39m(epoches)):\n\u001b[0;32m---> 67\u001b[0m     train_loss  \u001b[39m=\u001b[39m \u001b[39mself\u001b[39;49m\u001b[39m.\u001b[39;49mtrain_loop(trainset)\n\u001b[1;32m     68\u001b[0m     val_loss, val_acc \u001b[39m=\u001b[39m \u001b[39mself\u001b[39m\u001b[39m.\u001b[39mtest(valset)\n\u001b[1;32m     70\u001b[0m     history\u001b[39m.\u001b[39mappend((e, train_loss, val_loss, val_acc))\n",
      "File \u001b[0;32m~/Documents/SOS/utils/ModelTrainer.py:30\u001b[0m, in \u001b[0;36mModelTrainer.train_loop\u001b[0;34m(self, trainset)\u001b[0m\n\u001b[1;32m     28\u001b[0m \u001b[39mself\u001b[39m\u001b[39m.\u001b[39moptimizer\u001b[39m.\u001b[39mzero_grad()\n\u001b[1;32m     29\u001b[0m loss \u001b[39m=\u001b[39m \u001b[39mself\u001b[39m\u001b[39m.\u001b[39mcriterion(y_hat, y)\n\u001b[0;32m---> 30\u001b[0m loss\u001b[39m.\u001b[39;49mbackward()\n\u001b[1;32m     31\u001b[0m \u001b[39mself\u001b[39m\u001b[39m.\u001b[39moptimizer\u001b[39m.\u001b[39mstep()\n\u001b[1;32m     33\u001b[0m loss_sum \u001b[39m+\u001b[39m\u001b[39m=\u001b[39m loss\u001b[39m.\u001b[39mcpu()\u001b[39m.\u001b[39mitem()\n",
      "File \u001b[0;32m/usr/lib/python3.11/site-packages/torch/_tensor.py:487\u001b[0m, in \u001b[0;36mTensor.backward\u001b[0;34m(self, gradient, retain_graph, create_graph, inputs)\u001b[0m\n\u001b[1;32m    477\u001b[0m \u001b[39mif\u001b[39;00m has_torch_function_unary(\u001b[39mself\u001b[39m):\n\u001b[1;32m    478\u001b[0m     \u001b[39mreturn\u001b[39;00m handle_torch_function(\n\u001b[1;32m    479\u001b[0m         Tensor\u001b[39m.\u001b[39mbackward,\n\u001b[1;32m    480\u001b[0m         (\u001b[39mself\u001b[39m,),\n\u001b[0;32m   (...)\u001b[0m\n\u001b[1;32m    485\u001b[0m         inputs\u001b[39m=\u001b[39minputs,\n\u001b[1;32m    486\u001b[0m     )\n\u001b[0;32m--> 487\u001b[0m torch\u001b[39m.\u001b[39;49mautograd\u001b[39m.\u001b[39;49mbackward(\n\u001b[1;32m    488\u001b[0m     \u001b[39mself\u001b[39;49m, gradient, retain_graph, create_graph, inputs\u001b[39m=\u001b[39;49minputs\n\u001b[1;32m    489\u001b[0m )\n",
      "File \u001b[0;32m/usr/lib/python3.11/site-packages/torch/autograd/__init__.py:200\u001b[0m, in \u001b[0;36mbackward\u001b[0;34m(tensors, grad_tensors, retain_graph, create_graph, grad_variables, inputs)\u001b[0m\n\u001b[1;32m    195\u001b[0m     retain_graph \u001b[39m=\u001b[39m create_graph\n\u001b[1;32m    197\u001b[0m \u001b[39m# The reason we repeat same the comment below is that\u001b[39;00m\n\u001b[1;32m    198\u001b[0m \u001b[39m# some Python versions print out the first line of a multi-line function\u001b[39;00m\n\u001b[1;32m    199\u001b[0m \u001b[39m# calls in the traceback and some print out the last line\u001b[39;00m\n\u001b[0;32m--> 200\u001b[0m Variable\u001b[39m.\u001b[39;49m_execution_engine\u001b[39m.\u001b[39;49mrun_backward(  \u001b[39m# Calls into the C++ engine to run the backward pass\u001b[39;49;00m\n\u001b[1;32m    201\u001b[0m     tensors, grad_tensors_, retain_graph, create_graph, inputs,\n\u001b[1;32m    202\u001b[0m     allow_unreachable\u001b[39m=\u001b[39;49m\u001b[39mTrue\u001b[39;49;00m, accumulate_grad\u001b[39m=\u001b[39;49m\u001b[39mTrue\u001b[39;49;00m)\n",
      "\u001b[0;31mKeyboardInterrupt\u001b[0m: "
     ]
    }
   ],
   "source": [
    "model_handler = ModelHandler.download_model(\"chenyaofo/pytorch-cifar-models\", 'cifar10_vgg11_bn', 'cpu')\n",
    "\n",
    "model_handler.finetune(wd)"
   ]
  }
 ],
 "metadata": {
  "kernelspec": {
   "display_name": "Python 3",
   "language": "python",
   "name": "python3"
  },
  "language_info": {
   "codemirror_mode": {
    "name": "ipython",
    "version": 3
   },
   "file_extension": ".py",
   "mimetype": "text/x-python",
   "name": "python",
   "nbconvert_exporter": "python",
   "pygments_lexer": "ipython3",
   "version": "3.11.5"
  }
 },
 "nbformat": 4,
 "nbformat_minor": 2
}
